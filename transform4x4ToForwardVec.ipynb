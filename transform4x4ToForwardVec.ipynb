{
 "cells": [
  {
   "cell_type": "code",
   "execution_count": 1,
   "metadata": {},
   "outputs": [],
   "source": [
    "import numpy as np\n",
    "import transforms3d as t3d"
   ]
  },
  {
   "cell_type": "code",
   "execution_count": 4,
   "metadata": {},
   "outputs": [
    {
     "ename": "SyntaxError",
     "evalue": "invalid syntax (<ipython-input-4-bd68177c503e>, line 1)",
     "output_type": "error",
     "traceback": [
      "\u001b[1;36m  File \u001b[1;32m\"<ipython-input-4-bd68177c503e>\"\u001b[1;36m, line \u001b[1;32m1\u001b[0m\n\u001b[1;33m    a=np.array(((0 0 0 1),(0 0 0 1),(0 0 0 1),(0 0 0 1)))\u001b[0m\n\u001b[1;37m                   ^\u001b[0m\n\u001b[1;31mSyntaxError\u001b[0m\u001b[1;31m:\u001b[0m invalid syntax\n"
     ]
    }
   ],
   "source": [
    "a=np.array(((0 0 0 1),(0 0 0 1),(0 0 0 1),(0 0 0 1)))\n",
    "print(a)"
   ]
  },
  {
   "cell_type": "code",
   "execution_count": 2,
   "metadata": {},
   "outputs": [],
   "source": [
    "simd = np.array([[0.99048275, 0.0020050376, -0.13762242, 0.0], [0.0, 0.9998939, 0.014567575, 0.0], [0.13763702, -0.014428932, 0.99037766, 0.0], [-0.03208249, 0.02704118, 0.025225572, 1.0]])"
   ]
  },
  {
   "cell_type": "code",
   "execution_count": 11,
   "metadata": {},
   "outputs": [
    {
     "name": "stdout",
     "output_type": "stream",
     "text": [
      "[-0.13762241  0.00200504 -0.99048274]\n"
     ]
    }
   ],
   "source": [
    "ret = t3d.affines.decompose(simd)\n",
    "rotmat = ret[1]\n",
    "quat=t3d.quaternions.mat2quat(rotmat)\n",
    "dir=quat_to_dir_vec(quat)\n",
    "print(dir)"
   ]
  },
  {
   "cell_type": "code",
   "execution_count": 10,
   "metadata": {},
   "outputs": [],
   "source": [
    "def quat_to_dir_vec(q):\n",
    "    x = 2 * (q[0]*q[2] + q[3]*q[1])\n",
    "    y = 2 * (q[1]*q[2] - q[3]*q[0])\n",
    "    z = 1 - 2 * (q[0]*q[0] + q[1]*q[1])\n",
    "    return np.array([x,y,z])"
   ]
  }
 ],
 "metadata": {
  "kernelspec": {
   "display_name": "Python 3",
   "language": "python",
   "name": "python3"
  },
  "language_info": {
   "codemirror_mode": {
    "name": "ipython",
    "version": 3
   },
   "file_extension": ".py",
   "mimetype": "text/x-python",
   "name": "python",
   "nbconvert_exporter": "python",
   "pygments_lexer": "ipython3",
   "version": "3.7.1"
  }
 },
 "nbformat": 4,
 "nbformat_minor": 2
}
